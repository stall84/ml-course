{
 "cells": [
  {
   "cell_type": "code",
   "execution_count": 23,
   "metadata": {},
   "outputs": [
    {
     "name": "stdout",
     "output_type": "stream",
     "text": [
      "[70000. 60000. 52000.]\n",
      "1.0\n",
      "1.0\n",
      "0.4444444444444444\n",
      "0.4444444444444444\n",
      "0.0\n",
      "0.0\n",
      "1.0\n",
      "1.0\n",
      "0.8\n",
      "0.8\n",
      "0.0\n",
      "0.0\n",
      "     salary  age\n",
      "0  1.000000  1.0\n",
      "1  0.444444  0.8\n",
      "2  0.000000  0.0\n"
     ]
    }
   ],
   "source": [
    "# See notes on feature scaling in the notes fold\n",
    "import numpy as np\n",
    "import pandas as pd\n",
    "\n",
    "employees = np.array([70000, 60000, 52000], dtype=float)\n",
    "age = np.array([45, 44, 40], dtype=float)\n",
    " # We want to avoid the salary feature to dominate the age feature, based on a 10,000 scale distance to a 4 year age difference. \n",
    "print(employees)\n",
    "\n",
    "# normalize\n",
    "\n",
    "def normalizer(array):\n",
    "    arr_min = np.min(array)\n",
    "    arr_max = np.max(array)\n",
    "    for i in range(len(array)):\n",
    "        # print(arr_max, arr_min)\n",
    "        # print(array[i])\n",
    "        print((array[i] - arr_min) / (arr_max - arr_min))\n",
    "        array[i] = (array[i] - arr_min) / (arr_max - arr_min) \n",
    "        print(array[i])\n",
    "\n",
    "    return array    \n",
    "\n",
    "normalizer(employees)\n",
    "normalizer(age)\n",
    "df = pd.DataFrame({    \n",
    "\"salary\": [employees[0], employees[1], employees[2]],\n",
    "\"age\": [age[0], age[1], age[2]]\n",
    "}, dtype=float)\n",
    "print(df)"
   ]
  },
  {
   "cell_type": "code",
   "execution_count": null,
   "metadata": {},
   "outputs": [],
   "source": []
  }
 ],
 "metadata": {
  "kernelspec": {
   "display_name": "Python 3",
   "language": "python",
   "name": "python3"
  },
  "language_info": {
   "codemirror_mode": {
    "name": "ipython",
    "version": 3
   },
   "file_extension": ".py",
   "mimetype": "text/x-python",
   "name": "python",
   "nbconvert_exporter": "python",
   "pygments_lexer": "ipython3",
   "version": "3.10.1"
  }
 },
 "nbformat": 4,
 "nbformat_minor": 2
}
